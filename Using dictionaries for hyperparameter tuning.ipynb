{
 "cells": [
  {
   "cell_type": "code",
   "execution_count": 70,
   "metadata": {},
   "outputs": [
    {
     "data": {
      "text/plain": [
       "(569, 32)"
      ]
     },
     "execution_count": 70,
     "metadata": {},
     "output_type": "execute_result"
    }
   ],
   "source": [
    "import numpy as np \n",
    "import pandas as pd\n",
    "import matplotlib.pyplot as plt\n",
    "from sklearn.model_selection import train_test_split, GridSearchCV\n",
    "from sklearn.metrics import accuracy_score, confusion_matrix\n",
    "import lightgbm as lgb\n",
    "\n",
    "\n",
    "df = pd.read_csv('breast-cancer.csv')\n",
    "df.shape\n"
   ]
  },
  {
   "cell_type": "code",
   "execution_count": 71,
   "metadata": {},
   "outputs": [
    {
     "name": "stdout",
     "output_type": "stream",
     "text": [
      "id , int64 , 569 , 0\n",
      "diagnosis , object , 2 , 0\n",
      "radius_mean , float64 , 456 , 0\n",
      "texture_mean , float64 , 479 , 0\n",
      "perimeter_mean , float64 , 522 , 0\n",
      "area_mean , float64 , 539 , 0\n",
      "smoothness_mean , float64 , 474 , 0\n",
      "compactness_mean , float64 , 537 , 0\n",
      "concavity_mean , float64 , 537 , 0\n",
      "concave points_mean , float64 , 542 , 0\n",
      "symmetry_mean , float64 , 432 , 0\n",
      "fractal_dimension_mean , float64 , 499 , 0\n",
      "radius_se , float64 , 540 , 0\n",
      "texture_se , float64 , 519 , 0\n",
      "perimeter_se , float64 , 533 , 0\n",
      "area_se , float64 , 528 , 0\n",
      "smoothness_se , float64 , 547 , 0\n",
      "compactness_se , float64 , 541 , 0\n",
      "concavity_se , float64 , 533 , 0\n",
      "concave points_se , float64 , 507 , 0\n",
      "symmetry_se , float64 , 498 , 0\n",
      "fractal_dimension_se , float64 , 545 , 0\n",
      "radius_worst , float64 , 457 , 0\n",
      "texture_worst , float64 , 511 , 0\n",
      "perimeter_worst , float64 , 514 , 0\n",
      "area_worst , float64 , 544 , 0\n",
      "smoothness_worst , float64 , 411 , 0\n",
      "compactness_worst , float64 , 529 , 0\n",
      "concavity_worst , float64 , 539 , 0\n",
      "concave points_worst , float64 , 492 , 0\n",
      "symmetry_worst , float64 , 500 , 0\n",
      "fractal_dimension_worst , float64 , 535 , 0\n"
     ]
    }
   ],
   "source": [
    "for i in df.columns:\n",
    "    print(i, ',', df[i].dtype,',', df[i].nunique(dropna=False),',', df[i].isna().sum())"
   ]
  },
  {
   "cell_type": "code",
   "execution_count": 72,
   "metadata": {},
   "outputs": [
    {
     "data": {
      "text/plain": [
       "diagnosis\n",
       "B    357\n",
       "M    212\n",
       "Name: count, dtype: int64"
      ]
     },
     "execution_count": 72,
     "metadata": {},
     "output_type": "execute_result"
    }
   ],
   "source": [
    "df['diagnosis'].value_counts(dropna=False)"
   ]
  },
  {
   "cell_type": "code",
   "execution_count": 73,
   "metadata": {},
   "outputs": [],
   "source": [
    "df_x = df.drop('diagnosis', axis=1)\n",
    "df_y = df['diagnosis']\n",
    "\n",
    "x_train, x_test, y_train, y_test = train_test_split(df_x, df_y, test_size= 0.3, random_state=37)"
   ]
  },
  {
   "cell_type": "code",
   "execution_count": 74,
   "metadata": {},
   "outputs": [
    {
     "name": "stdout",
     "output_type": "stream",
     "text": [
      "Best Parameter = {'learning_rate': 0.3, 'n_estimators': 50, 'num_leaves': 25}\n",
      "Best score is 0.9673101265822786\n"
     ]
    }
   ],
   "source": [
    "model = lgb.LGBMClassifier(random_state=37, verbose = -1)\n",
    "param_grid = {'learning_rate': [0.1,0.2,0.3,0.4],\n",
    "              'n_estimators': [25,50,75,100,150],\n",
    "              'num_leaves': [15,25,30,35,40]\n",
    "              }\n",
    "model_cv = GridSearchCV(model, param_grid,cv=5)\n",
    "model_cv.fit(x_train, y_train)\n",
    "best_param = model_cv.best_params_\n",
    "\n",
    "print(f'Best Parameter = {model_cv.best_params_}')\n",
    "print(\"Best score is {}\".format(model_cv.best_score_))"
   ]
  },
  {
   "cell_type": "code",
   "execution_count": 75,
   "metadata": {},
   "outputs": [
    {
     "name": "stdout",
     "output_type": "stream",
     "text": [
      "LightGBM Model Accuray = 0.9707602339181286\n",
      "\n",
      "Confusion Matrix = \n",
      "[[110   2]\n",
      " [  3  56]]\n"
     ]
    }
   ],
   "source": [
    "model = lgb.LGBMClassifier(learning_rate=0.3, n_estimators=50, num_leaves=25, random_state=37, verbose = -1)\n",
    "model.fit(x_train,y_train)\n",
    "labels = model.predict(x_test)\n",
    "model_accuracy = accuracy_score(labels, y_test)\n",
    "print(f'LightGBM Model Accuray = {model_accuracy}')\n",
    "\n",
    "cm = confusion_matrix(y_test, labels)\n",
    "print(f'\\nConfusion Matrix = \\n{cm}')"
   ]
  },
  {
   "cell_type": "code",
   "execution_count": 76,
   "metadata": {},
   "outputs": [
    {
     "data": {
      "text/plain": [
       "{'boosting_type': 'gbdt',\n",
       " 'class_weight': None,\n",
       " 'colsample_bytree': 1.0,\n",
       " 'importance_type': 'split',\n",
       " 'learning_rate': 0.3,\n",
       " 'max_depth': -1,\n",
       " 'min_child_samples': 20,\n",
       " 'min_child_weight': 0.001,\n",
       " 'min_split_gain': 0.0,\n",
       " 'n_estimators': 50,\n",
       " 'n_jobs': None,\n",
       " 'num_leaves': 25,\n",
       " 'objective': None,\n",
       " 'random_state': 37,\n",
       " 'reg_alpha': 0.0,\n",
       " 'reg_lambda': 0.0,\n",
       " 'subsample': 1.0,\n",
       " 'subsample_for_bin': 200000,\n",
       " 'subsample_freq': 0,\n",
       " 'verbose': -1}"
      ]
     },
     "execution_count": 76,
     "metadata": {},
     "output_type": "execute_result"
    }
   ],
   "source": [
    "hyperparameters = model.get_params(deep=True)  # Hyperparameters are stored in a Python dictionary\n",
    "hyperparameters"
   ]
  },
  {
   "cell_type": "code",
   "execution_count": 77,
   "metadata": {},
   "outputs": [
    {
     "name": "stdout",
     "output_type": "stream",
     "text": [
      "LightGBM Model Accuray = 0.9590643274853801\n",
      "\n",
      "Confusion Matrix = \n",
      "[[108   4]\n",
      " [  3  56]]\n"
     ]
    }
   ],
   "source": [
    "model = lgb.LGBMClassifier(random_state=37, verbose = -1)\n",
    "model.fit(x_train,y_train)\n",
    "labels = model.predict(x_test)\n",
    "model_accuracy = accuracy_score(labels, y_test)\n",
    "print(f'LightGBM Model Accuray = {model_accuracy}')\n",
    "\n",
    "cm = confusion_matrix(y_test, labels)\n",
    "print(f'\\nConfusion Matrix = \\n{cm}')"
   ]
  },
  {
   "cell_type": "code",
   "execution_count": 78,
   "metadata": {},
   "outputs": [
    {
     "data": {
      "text/plain": [
       "{'boosting_type': 'gbdt',\n",
       " 'class_weight': None,\n",
       " 'colsample_bytree': 1.0,\n",
       " 'importance_type': 'split',\n",
       " 'learning_rate': 0.1,\n",
       " 'max_depth': -1,\n",
       " 'min_child_samples': 20,\n",
       " 'min_child_weight': 0.001,\n",
       " 'min_split_gain': 0.0,\n",
       " 'n_estimators': 100,\n",
       " 'n_jobs': None,\n",
       " 'num_leaves': 31,\n",
       " 'objective': None,\n",
       " 'random_state': 37,\n",
       " 'reg_alpha': 0.0,\n",
       " 'reg_lambda': 0.0,\n",
       " 'subsample': 1.0,\n",
       " 'subsample_for_bin': 200000,\n",
       " 'subsample_freq': 0,\n",
       " 'verbose': -1}"
      ]
     },
     "execution_count": 78,
     "metadata": {},
     "output_type": "execute_result"
    }
   ],
   "source": [
    "hyperparameters = model.get_params(deep=True)  # Hyperparameters are stored in a Python dictionary\n",
    "hyperparameters"
   ]
  }
 ],
 "metadata": {
  "kernelspec": {
   "display_name": "Python 3",
   "language": "python",
   "name": "python3"
  },
  "language_info": {
   "codemirror_mode": {
    "name": "ipython",
    "version": 3
   },
   "file_extension": ".py",
   "mimetype": "text/x-python",
   "name": "python",
   "nbconvert_exporter": "python",
   "pygments_lexer": "ipython3",
   "version": "3.11.4"
  }
 },
 "nbformat": 4,
 "nbformat_minor": 2
}
